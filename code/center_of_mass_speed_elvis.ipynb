{
 "cells": [
  {
   "cell_type": "code",
   "execution_count": 38,
   "id": "2f10bdf9",
   "metadata": {},
   "outputs": [],
   "source": [
    "import numpy as np\n",
    "import matplotlib.pyplot as plt"
   ]
  },
  {
   "cell_type": "code",
   "execution_count": 52,
   "id": "e5076033",
   "metadata": {},
   "outputs": [],
   "source": [
    "def process_file(filename):\n",
    "    data = np.loadtxt(filename, skiprows=2)\n",
    "    mvir = data[:,9]\n",
    "    ii = np.argsort(-mvir)\n",
    "    data = data[ii,:]\n",
    "    mass = data[:2,9]\n",
    "    vels = data[:2,4:7]\n",
    "    \n",
    "    #print(mass, np.linalg.norm(vels[0,:]))\n",
    "    m_tot = np.sum(mass)\n",
    "    vel_x = (mass[1]*vels[1,0] + mass[0]*vels[0,0])/m_tot\n",
    "    vel_y = (mass[1]*vels[1,1] + mass[0]*vels[0,1])/m_tot\n",
    "    vel_z = (mass[1]*vels[1,2] + mass[0]*vels[0,2])/m_tot\n",
    "    \n",
    "    return np.sqrt(vel_x**2 + vel_y**2 + vel_z**2)"
   ]
  },
  {
   "cell_type": "code",
   "execution_count": 53,
   "id": "5336df71",
   "metadata": {},
   "outputs": [
    {
     "name": "stdout",
     "output_type": "stream",
     "text": [
      "[ 37.66496068 339.13703708 189.65294593 210.9266964  149.26107408\n",
      " 147.68676678 122.23960773  82.50931349 220.67811099 366.35714396\n",
      " 188.90703114 203.61413873] 188.21956891583136\n"
     ]
    }
   ],
   "source": [
    "v = []\n",
    "for i in range(12):\n",
    "    v.append(process_file('elvis_{:d}.dat'.format(i)))\n",
    "v = np.array(v)\n",
    "print(v, v.mean())"
   ]
  },
  {
   "cell_type": "code",
   "execution_count": 25,
   "id": "10722a77",
   "metadata": {},
   "outputs": [
    {
     "data": {
      "text/plain": [
       "array([-39.04,  -7.68,  80.53])"
      ]
     },
     "execution_count": 25,
     "metadata": {},
     "output_type": "execute_result"
    }
   ],
   "source": [
    "a = np.array([-7.94 ,   3.98,   71.31])\n",
    "b = np.array([31.10,   11.66,   -9.22])\n",
    "\n",
    "a - b\n"
   ]
  },
  {
   "cell_type": "code",
   "execution_count": null,
   "id": "d3896ec2",
   "metadata": {},
   "outputs": [],
   "source": []
  }
 ],
 "metadata": {
  "kernelspec": {
   "display_name": "Python 3",
   "language": "python",
   "name": "python3"
  },
  "language_info": {
   "codemirror_mode": {
    "name": "ipython",
    "version": 3
   },
   "file_extension": ".py",
   "mimetype": "text/x-python",
   "name": "python",
   "nbconvert_exporter": "python",
   "pygments_lexer": "ipython3",
   "version": "3.8.10"
  }
 },
 "nbformat": 4,
 "nbformat_minor": 5
}
