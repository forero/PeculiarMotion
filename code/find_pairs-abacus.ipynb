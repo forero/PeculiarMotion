{
 "cells": [
  {
   "cell_type": "code",
   "execution_count": 2,
   "metadata": {},
   "outputs": [],
   "source": [
    "import illustris_python.groupcat as gc\n",
    "from sklearn.neighbors import NearestNeighbors\n",
    "import matplotlib.pyplot as plt\n",
    "import numpy as np\n",
    "import abacus_cosmos.Halos as ach\n",
    "from astropy.table import Table\n",
    "import h5py"
   ]
  },
  {
   "cell_type": "code",
   "execution_count": 111,
   "metadata": {},
   "outputs": [],
   "source": [
    "def compute_pairs_FOF_abacus_box(BoxID=0):\n",
    "    basePath = \"/Users/forero/data/AbacusCosmos/AbacusCosmos_720box_{:02d}_FoF_halos_z0.100/\".format(BoxID)\n",
    "    \n",
    "    print(\"Started reading the data\")\n",
    "    halo_data = ach.read_halos_FoF(basePath)\n",
    "    print(\"Finished reading the data\")\n",
    "    \n",
    "    BoxSize = 720.0\n",
    "    halo_data['pos'] = halo_data['pos']+BoxSize/2.0\n",
    "\n",
    "    print(\"Vcirc selection\")\n",
    "    ii = halo_data['vcirc_max']>200 # in units of km/s\n",
    "    S_pos = halo_data['pos'][ii]\n",
    "    S_vel = halo_data['vel'][ii]\n",
    "    S_vmax = halo_data['vcirc_max'][ii]\n",
    "    S_parent_fof = halo_data['id'][ii]\n",
    "    n_S = len(S_pos)\n",
    "    print(\"Number of halos selected:\", n_S)\n",
    "    \n",
    "    print(\"Started Neighbor computation\")\n",
    "    nbrs_S = NearestNeighbors(n_neighbors=20, algorithm='ball_tree').fit(S_pos)\n",
    "    dist_S, ind_S = nbrs_S.kneighbors(S_pos)\n",
    "    print(\"Finished Neighbor computation\")\n",
    "    \n",
    "    print(\"Started isolation computation\")\n",
    "    neighbor_index = ind_S[:,1]\n",
    "    neighbor_list = ind_S[:,2:]\n",
    "\n",
    "    n_pairs = 0\n",
    "\n",
    "    halo_A_id = np.empty((0), dtype=int)\n",
    "    halo_B_id = np.empty((0), dtype=int)\n",
    "\n",
    "    for i in range(n_S):\n",
    "        l = neighbor_index[neighbor_index[i]]% n_S\n",
    "        j = neighbor_index[i] % n_S\n",
    "    \n",
    "        other_j = neighbor_list[i,:] % n_S\n",
    "        other_l = neighbor_list[neighbor_index[i],:] % n_S\n",
    "    \n",
    "        if((i==l) & (not (j in halo_A_id)) & (not (i in halo_B_id))): # first check to find mutual neighbors\n",
    "            if((dist_S[i,1] > 0.7)): #check on the distance between the two galaxies\n",
    "                vmax_i = S_vmax[i]\n",
    "                vmax_j = S_vmax[j]\n",
    "                vmax_limit = min([vmax_i, vmax_j])\n",
    "                \n",
    "                pair_d = dist_S[i,1] # This is the current pair distance\n",
    "                dist_limit = pair_d * 3.0 # exclusion radius for massive structures\n",
    "            \n",
    "                massive_close_to_i = any((dist_S[i,2:]<dist_limit) & (S_vmax[other_j] >= vmax_limit))\n",
    "                massive_close_to_j = any((dist_S[j,2:]<dist_limit) & (S_vmax[other_l] >= vmax_limit))\n",
    "                if((not massive_close_to_i) & (not massive_close_to_j)): # check on massive structures inside exclusion radius\n",
    "                    n_pairs = n_pairs+ 1\n",
    "                    halo_A_id = np.append(halo_A_id, int(i))\n",
    "                    halo_B_id = np.append(halo_B_id, int(j))\n",
    "    print(\"Finished isolation computation\")\n",
    "    print(\"Pairs found:\", n_pairs)\n",
    "    \n",
    "    filename = '../data/summary_box_{:02d}.hdf5'.format(BoxID)\n",
    "    print(\"Started writing data to \", filename)\n",
    "\n",
    "    h5f = h5py.File(filename, 'w')\n",
    "    h5f.create_dataset('pos_A', data=S_pos[halo_A_id,:])\n",
    "    h5f.create_dataset('pos_B', data=S_pos[halo_B_id,:])\n",
    "    h5f.create_dataset('pos_G', data=S_pos[ll,:])\n",
    "    h5f.create_dataset('vel_A', data=S_vel[halo_A_id,:])\n",
    "    h5f.create_dataset('vel_B', data=S_vel[halo_B_id,:])\n",
    "    h5f.create_dataset('vel_G', data=S_vel[ll,:])\n",
    "    h5f.create_dataset('vmax_A', data=S_vmax[halo_A_id])\n",
    "    h5f.create_dataset('vmax_B', data=S_vmax[halo_B_id])\n",
    "    h5f.create_dataset('vmax_G', data=S_vmax[ll])\n",
    "    h5f.close()"
   ]
  },
  {
   "cell_type": "code",
   "execution_count": 6,
   "metadata": {},
   "outputs": [
    {
     "name": "stdout",
     "output_type": "stream",
     "text": [
      "Started reading the data\n",
      "Finished reading the data\n"
     ]
    }
   ],
   "source": [
    "BoxID = 1\n",
    "basePath = \"/Users/forero/data/AbacusCosmos/AbacusCosmos_720box_{:02d}_FoF_halos_z0.100/\".format(BoxID)\n",
    "    \n",
    "print(\"Started reading the data\")\n",
    "halo_data = ach.read_halos_FoF(basePath)\n",
    "print(\"Finished reading the data\")"
   ]
  },
  {
   "cell_type": "code",
   "execution_count": 8,
   "metadata": {},
   "outputs": [
    {
     "data": {
      "text/plain": [
       "array([44786, 35372, 26999, ...,    25,    25,    25], dtype=uint32)"
      ]
     },
     "execution_count": 8,
     "metadata": {},
     "output_type": "execute_result"
    }
   ],
   "source": [
    "halo_data['N']"
   ]
  },
  {
   "cell_type": "code",
   "execution_count": null,
   "metadata": {},
   "outputs": [],
   "source": []
  }
 ],
 "metadata": {
  "kernelspec": {
   "display_name": "Python 3",
   "language": "python",
   "name": "python3"
  },
  "language_info": {
   "codemirror_mode": {
    "name": "ipython",
    "version": 3
   },
   "file_extension": ".py",
   "mimetype": "text/x-python",
   "name": "python",
   "nbconvert_exporter": "python",
   "pygments_lexer": "ipython3",
   "version": "3.6.10"
  }
 },
 "nbformat": 4,
 "nbformat_minor": 2
}
