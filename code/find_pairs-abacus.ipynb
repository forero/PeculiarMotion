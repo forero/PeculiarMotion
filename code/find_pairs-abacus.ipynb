{
 "cells": [
  {
   "cell_type": "code",
   "execution_count": 1,
   "metadata": {},
   "outputs": [],
   "source": [
    "import illustris_python.groupcat as gc\n",
    "from sklearn.neighbors import NearestNeighbors\n",
    "import matplotlib.pyplot as plt\n",
    "import numpy as np\n",
    "import abacus_cosmos.Halos as ach\n",
    "from astropy.table import Table\n",
    "\n",
    "%matplotlib inline"
   ]
  },
  {
   "cell_type": "code",
   "execution_count": 2,
   "metadata": {},
   "outputs": [],
   "source": [
    "basePath = \"/Users/forero/github/abacus/data/AbacusCosmos_720box_00_FoF_halos_z0.100/\"\n",
    "halo_data = ach.read_halos_FoF(basePath)\n",
    "halo_table = Table(halo_data)"
   ]
  },
  {
   "cell_type": "code",
   "execution_count": 3,
   "metadata": {},
   "outputs": [],
   "source": [
    "hubble = 0.67\n",
    "BoxSize = 720.0"
   ]
  },
  {
   "cell_type": "code",
   "execution_count": 4,
   "metadata": {},
   "outputs": [
    {
     "name": "stdout",
     "output_type": "stream",
     "text": [
      "0.0\n"
     ]
    }
   ],
   "source": [
    "halo_table['pos'] = halo_table['pos']+BoxSize/2.0\n",
    "print(halo_table['pos'].min())"
   ]
  },
  {
   "cell_type": "code",
   "execution_count": 1,
   "metadata": {},
   "outputs": [
    {
     "ename": "NameError",
     "evalue": "name 'halo_table' is not defined",
     "output_type": "error",
     "traceback": [
      "\u001b[0;31m---------------------------------------------------------------------------\u001b[0m",
      "\u001b[0;31mNameError\u001b[0m                                 Traceback (most recent call last)",
      "\u001b[0;32m<ipython-input-1-f3e864a0c110>\u001b[0m in \u001b[0;36m<module>\u001b[0;34m()\u001b[0m\n\u001b[0;32m----> 1\u001b[0;31m \u001b[0mhalo_table\u001b[0m\u001b[0;34m[\u001b[0m\u001b[0;34m:\u001b[0m\u001b[0;36m10\u001b[0m\u001b[0;34m]\u001b[0m\u001b[0;34m\u001b[0m\u001b[0;34m\u001b[0m\u001b[0m\n\u001b[0m",
      "\u001b[0;31mNameError\u001b[0m: name 'halo_table' is not defined"
     ]
    }
   ],
   "source": [
    "halo_table[:10]"
   ]
  },
  {
   "cell_type": "code",
   "execution_count": 6,
   "metadata": {},
   "outputs": [
    {
     "name": "stdout",
     "output_type": "stream",
     "text": [
      "52.66205\n"
     ]
    }
   ],
   "source": [
    "print(np.min(halo_table['vcirc_max']))"
   ]
  },
  {
   "cell_type": "code",
   "execution_count": 7,
   "metadata": {},
   "outputs": [
    {
     "name": "stdout",
     "output_type": "stream",
     "text": [
      "783252\n"
     ]
    }
   ],
   "source": [
    "ii = halo_table['vcirc_max']>200 # in units of km/s\n",
    "print(np.count_nonzero(ii))"
   ]
  },
  {
   "cell_type": "code",
   "execution_count": 8,
   "metadata": {},
   "outputs": [
    {
     "name": "stdout",
     "output_type": "stream",
     "text": [
      "783252\n"
     ]
    }
   ],
   "source": [
    "S_pos = halo_table['pos'][ii]\n",
    "S_vel = halo_table['vel'][ii]\n",
    "S_vmax = halo_table['vcirc_max'][ii]\n",
    "S_stellar_mass = np.zeros(np.count_nonzero(ii))\n",
    "S_parent_fof = np.zeros(np.count_nonzero(ii))\n",
    "n_S = len(S_pos)\n",
    "print(n_S)"
   ]
  },
  {
   "cell_type": "code",
   "execution_count": 9,
   "metadata": {},
   "outputs": [],
   "source": [
    "#pad boxes around the S3 positions to mimic periodic boundary conditions\n",
    "S_pad_pos = S_pos.copy()\n",
    "S_pad_vel = S_vel.copy()\n",
    "S_pad_vmax = S_vmax.copy()\n",
    "S_pad_stellar_mass = S_stellar_mass.copy()\n",
    "S_pad_fof = S_parent_fof.copy()\n",
    "S_pad_id = np.arange(n_S)\n",
    "for i in [0]:\n",
    "    for j in [0]:\n",
    "        for k in [0]:\n",
    "            new_pos = S_pos.copy()\n",
    "            if(i):\n",
    "                new_pos[:,0] = new_pos[:,0] + i*BoxSize\n",
    "            if(j):\n",
    "                new_pos[:,1] = new_pos[:,1] + j*BoxSize\n",
    "            if(k):\n",
    "                new_pos[:,2] = new_pos[:,2] + k*BoxSize\n",
    "                \n",
    "            if((i!=0) | (j!=0) | (k!=0)):\n",
    "                S_pad_pos = np.append(S_pad_pos, new_pos, axis=0)\n",
    "                S_pad_vel = np.append(S_pad_vel, S_vel, axis=0)\n",
    "                S_pad_vmax = np.append(S_pad_vmax, S_vmax)\n",
    "                S_pad_stellar_mass = np.append(S_pad_stellar_mass, S_stellar_mass)\n",
    "                S_pad_id = np.append(S_pad_id, np.arange(n_S))\n",
    "                S_pad_fof = np.append(S_pad_fof, S_parent_fof)"
   ]
  },
  {
   "cell_type": "code",
   "execution_count": 10,
   "metadata": {},
   "outputs": [
    {
     "name": "stdout",
     "output_type": "stream",
     "text": [
      "(783252, 3)\n",
      "(783252, 20)\n"
     ]
    }
   ],
   "source": [
    "nbrs_S = NearestNeighbors(n_neighbors=20, algorithm='ball_tree').fit(S_pad_pos)\n",
    "dist_S, ind_S = nbrs_S.kneighbors(S_pad_pos)\n",
    "print(S_pad_pos.shape)\n",
    "print(dist_S.shape)"
   ]
  },
  {
   "cell_type": "code",
   "execution_count": 14,
   "metadata": {},
   "outputs": [
    {
     "name": "stdout",
     "output_type": "stream",
     "text": [
      "(783252, 18)\n",
      "148323\n"
     ]
    }
   ],
   "source": [
    "neighbor_index = ind_S[:,1]\n",
    "neighbor_list = ind_S[:,2:]\n",
    "print(np.shape(neighbor_list))\n",
    "\n",
    "n_pairs = 0\n",
    "\n",
    "halo_A_id = np.empty((0), dtype=int)\n",
    "halo_B_id = np.empty((0), dtype=int)\n",
    "\n",
    "for i in range(n_S):\n",
    "#for i in range(10):\n",
    "    l = neighbor_index[neighbor_index[i]]% n_S\n",
    "    j = neighbor_index[i] % n_S\n",
    "    \n",
    "    other_j = neighbor_list[i,:] % n_S\n",
    "    other_l = neighbor_list[neighbor_index[i],:] % n_S\n",
    "    \n",
    "    if((i==l) & (not (j in halo_A_id)) & (not (i in halo_B_id))): # first check to find mutual neighbors\n",
    "        if((dist_S[i,1]/hubble > 0.7)): #check on the distance between the two galaxies\n",
    "            #print('distancia')\n",
    "            vmax_i = S_pad_vmax[i]\n",
    "            vmax_j = S_pad_vmax[j]\n",
    "            vmax_limit = min([vmax_i, vmax_j])\n",
    "                \n",
    "            pair_d = dist_S[i,1] # This is the current pair distance\n",
    "            dist_limit = pair_d * 3.0 # exclusion radius for massive structures\n",
    "            dist_limit = 3.0\n",
    "            \n",
    "            massive_close_to_i = any((dist_S[i,2:]<dist_limit) & (S_pad_vmax[other_j] >= vmax_limit))\n",
    "            massive_close_to_j = any((dist_S[j,2:]<dist_limit) & (S_pad_vmax[other_l] >= vmax_limit))\n",
    "            if((not massive_close_to_i) & (not massive_close_to_j)): # check on massive structures inside exclusion radius\n",
    "                n_pairs = n_pairs+ 1\n",
    "                halo_A_id = np.append(halo_A_id, int(i))\n",
    "                halo_B_id = np.append(halo_B_id, int(j))\n",
    "                    #print(pair_d)\n",
    "print(n_pairs)"
   ]
  },
  {
   "cell_type": "code",
   "execution_count": 15,
   "metadata": {},
   "outputs": [],
   "source": [
    "halo_A = np.array([S_pad_fof[halo_A_id], np.zeros(len(S_pad_fof[halo_A_id])), \n",
    "                   S_pad_stellar_mass[halo_A_id], S_vmax[halo_A_id],\n",
    "                   S_pos[halo_A_id,0], S_pos[halo_A_id,1], S_pos[halo_A_id,2],\n",
    "                   S_vel[halo_A_id,0], S_vel[halo_A_id,1], S_vel[halo_A_id,2]], )\n",
    "np.savetxt('../data/vmax_selected/summary_halo_A.txt', halo_A.T, \n",
    "        fmt=\"%d %f %f %f %f %f %f %f %f %f\", \n",
    "           header = \"FOF_ID M_FOF[10^10 Msun/h] Mstar[10^10 Msun/h] Vmax [km/s] Pos_xyz [kpc/h] Vel_xyz [km/s]\")\n",
    "\n",
    "halo_B = np.array([S_pad_fof[halo_B_id], np.zeros(len(S_pad_fof[halo_B_id])), \n",
    "                   S_pad_stellar_mass[halo_B_id], S_vmax[halo_B_id],\n",
    "                   S_pos[halo_B_id,0], S_pos[halo_B_id,1], S_pos[halo_B_id,2],\n",
    "                   S_vel[halo_B_id,0], S_vel[halo_B_id,1], S_vel[halo_B_id,2]])\n",
    "np.savetxt('../data/vmax_selected/summary_halo_B.txt', halo_B.T, \n",
    "        fmt=\"%d %f %f %f %f %f %f %f %f %f\", \n",
    "           header = \"FOF_ID M_FOF[10^10 Msun/h] Mstar[10^10 Msun/h] Vmax [km/s] Pos_xyz [kpc/h] Vel_xyz [km/s]\")"
   ]
  },
  {
   "cell_type": "code",
   "execution_count": null,
   "metadata": {},
   "outputs": [],
   "source": []
  },
  {
   "cell_type": "code",
   "execution_count": null,
   "metadata": {},
   "outputs": [],
   "source": []
  }
 ],
 "metadata": {
  "kernelspec": {
   "display_name": "Python 3",
   "language": "python",
   "name": "python3"
  },
  "language_info": {
   "codemirror_mode": {
    "name": "ipython",
    "version": 3
   },
   "file_extension": ".py",
   "mimetype": "text/x-python",
   "name": "python",
   "nbconvert_exporter": "python",
   "pygments_lexer": "ipython3",
   "version": "3.6.8"
  }
 },
 "nbformat": 4,
 "nbformat_minor": 2
}
