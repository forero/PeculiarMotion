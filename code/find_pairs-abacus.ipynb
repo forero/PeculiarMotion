{
 "cells": [
  {
   "cell_type": "code",
   "execution_count": 99,
   "metadata": {},
   "outputs": [],
   "source": [
    "import illustris_python.groupcat as gc\n",
    "from sklearn.neighbors import NearestNeighbors\n",
    "import matplotlib.pyplot as plt\n",
    "import numpy as np\n",
    "import abacus_cosmos.Halos as ach\n",
    "from astropy.table import Table\n",
    "import h5py\n",
    "\n",
    "\n",
    "%matplotlib inline"
   ]
  },
  {
   "cell_type": "code",
   "execution_count": 83,
   "metadata": {},
   "outputs": [],
   "source": [
    "BoxID = 10\n",
    "basePath = \"/Users/forero/github/abacus/data/AbacusCosmos_720box_{:02d}_FoF_halos_z0.100/\".format(BoxID)\n",
    "halo_data = ach.read_halos_FoF(basePath)"
   ]
  },
  {
   "cell_type": "code",
   "execution_count": 84,
   "metadata": {},
   "outputs": [
    {
     "name": "stdout",
     "output_type": "stream",
     "text": [
      "-360.0\n"
     ]
    }
   ],
   "source": [
    "print(halo_data['pos'].min())"
   ]
  },
  {
   "cell_type": "code",
   "execution_count": 70,
   "metadata": {},
   "outputs": [],
   "source": [
    "hubble = 0.67\n",
    "BoxSize = 720.0"
   ]
  },
  {
   "cell_type": "code",
   "execution_count": 85,
   "metadata": {},
   "outputs": [
    {
     "name": "stdout",
     "output_type": "stream",
     "text": [
      "0.0\n"
     ]
    }
   ],
   "source": [
    "halo_data['pos'] = halo_data['pos']+BoxSize/2.0\n"
   ]
  },
  {
   "cell_type": "code",
   "execution_count": 90,
   "metadata": {},
   "outputs": [
    {
     "name": "stdout",
     "output_type": "stream",
     "text": [
      "[(33242377525485,     0, 5731, 58166, [44379,   434,   302,   263], [ 67.85376 , 703.6271  , 255.09146 ], [ 509.94177  ,  295.99063  , -272.3032   ], [1061.0593 ,  805.7593 ,  731.78394], 0.48171747, 0.80373114, 1.1528836 , 1.7118766, 1417.7762, 1.1274769 , [-292.11053  ,  343.66425  , -104.909706 ], [ 508.18326 ,  280.0467  , -251.75488 ], [1061.2086 ,  805.9302 ,  731.84357], 0.47740415, 0.80419564, 1.1546255 , 1.6933568, 1418.7654, 1.1052033 )\n",
      " (33242377525486,  5731, 4692, 46664, [26401,  1705,   830,   337], [153.27827 , 716.8886  , 353.4101  ], [-269.46985  ,  453.1271   ,  271.3301   ], [ 880.7662 ,  740.1681 ,  728.64343], 0.38679054, 0.719261  , 1.3305287 , 1.9388833, 1321.1968, 0.6265267 , [-206.70566  ,  356.97067  ,   -6.4816904], [-297.32925 ,  330.8448  ,  183.07785 ], [ 889.2765 ,  745.46484,  729.0449 ], 0.36268893, 0.7067062 , 1.3516446 , 1.9914364, 1330.4701, 0.48325482)\n",
      " (33242377525487, 10423, 4585, 45562, [31489,  1019,   212,   179], [ 25.486359, 707.0409  ,  70.96149 ], [ -45.307255 ,   23.317432 ,  174.22153  ], [ 896.1391 ,  652.7718 ,  627.3807 ], 0.54238915, 0.954832  , 1.300396  , 1.6428326, 1181.2875, 1.3214806 , [-334.4567   ,  346.84943  , -289.05603  ], [ -65.48366 ,   53.515335,  168.32364 ], [ 896.6164 ,  652.9922 ,  627.5484 ], 0.56024677, 0.9206647 , 1.275933  , 1.6620818, 1191.9335, 1.2699919 )\n",
      " (33242377525488, 15008, 3390, 33869, [17875,  1386,  1175,  1008], [117.38359 , 708.6795  , 264.05505 ], [ -69.899765 ,   -6.9889946, -297.18048  ], [ 676.16833,  603.17334,  550.133  ], 0.6572208 , 1.0809318 , 1.7060264 , 2.4974113,  913.7096, 1.1263704 , [-242.91718  ,  348.0092   ,  -95.92312  ], [ -31.78347 ,  127.11008 , -266.57315 ], [ 688.1041 ,  603.21094,  553.79614], 0.46965834, 0.8502173 , 1.5408503 , 3.2005138, 1030.2288, 0.9413894 )\n",
      " (33242377525489, 18398, 2954, 29454, [17814,  3545,   277,    99], [152.2028  , 713.56586 , 487.97754 ], [ 272.11212  ,  152.44795  , -469.99182  ], [ 786.4638 ,  545.3629 ,  502.19394], 0.5614169 , 0.8352854 , 1.3494842 , 2.0142736,  978.8121, 0.9032725 , [-207.63321  ,  353.8822   ,  127.79477  ], [ 182.4185  ,   18.07401 , -419.61353 ], [ 801.5258 ,  549.19934,  502.71405], 0.44158283, 0.75003237, 1.2315053 , 2.4012344, 1022.7492, 0.8665608 )\n",
      " (33242377525490, 21352, 2661, 26485, [ 9274,  9049,   163,   103], [ 27.207886, 714.5651  , 166.57277 ], [ 100.47841  ,  125.59015  , -224.20467  ], [ 691.8322 ,  577.6156 ,  497.7921 ], 0.8756896 , 1.046031  , 1.2999407 , 1.5355327,  909.0681, 1.4917117 , [-333.0368   ,  355.24014  , -192.79347  ], [ 182.86069 , -181.4878  , -513.16345 ], [ 813.9844 ,  578.1532 ,  497.81995], 0.42215133, 1.1230855 , 1.9880298 , 2.3464766,  917.5658, 0.35975534)\n",
      " (33242377525491, 24013, 2556, 25252, [17370,   545,    59,    53], [154.42218 , 704.2283  , 377.27795 ], [ -73.17821  ,  413.1794   ,   22.22439  ], [ 794.5436 ,  597.7006 ,  532.4761 ], 0.34807977, 0.6252393 , 0.9501575 , 1.2102826, 1040.3667, 0.8103242 , [-205.50388  ,  344.24908  ,   17.264175 ], [ -78.61024 ,  380.41666 ,   32.05825 ], [ 794.9481 ,  597.9537 ,  532.7146 ], 0.3434756 , 0.62372684, 0.9575227 , 1.2211627, 1041.8667, 0.75812495)\n",
      " (33242377525492, 26569, 2465, 24667, [17285,   281,    70,    63], [ 51.649963, 710.4021  , 609.94196 ], [-448.04004  ,  420.79227  ,  122.053444 ], [ 782.8764 ,  652.3668 ,  562.3267 ], 0.27695966, 0.5355982 , 0.84310055, 1.1612372, 1116.6345, 0.4498638 , [-308.35703  ,  350.39963  ,  249.97012  ], [-428.34976 ,  428.6606  ,  118.884514], [ 782.8924 ,  652.48285,  562.5784 ], 0.2753872 , 0.53512895, 0.84372747, 1.162799 , 1115.0347, 0.40271398)\n",
      " (33242377525493, 29034, 2261, 22371, [ 9135,  3064,  3030,   321], [181.18123 , 713.24695 , 411.7837  ], [  69.57039  ,  189.23381  ,   14.94052  ], [ 660.07825,  491.45135,  398.301  ], 0.60180956, 0.9694414 , 1.7369063 , 2.0236142,  792.1485, 0.8075534 , [-178.91191  ,  353.52676  ,   51.483017 ], [ 156.52823 ,   79.408104,  163.72693 ], [ 682.1496 ,  503.58694,  398.37936], 0.43470094, 0.89907366, 1.8821375 , 2.198778 ,  847.648 , 0.57975316)\n",
      " (33242377525494, 31295, 2174, 21713, [16326,   156,   102,    83], [147.96695 , 712.32544 , 605.7771  ], [ 269.34146  , -254.99571  ,  267.3035   ], [ 712.47504,  625.808  ,  578.3725 ], 0.2803434 , 0.50628483, 0.78226525, 1.0412762, 1069.2893, 0.52689004, [-212.0127   ,  352.27548  ,  245.77501  ], [ 279.26443 , -251.13988 ,  267.98123 ], [ 712.4809 ,  625.8544 ,  578.4135 ], 0.2693764 , 0.49933878, 0.7778298 , 1.044982 , 1075.7021, 0.5227343 )]\n",
      "      id       subsamp_start ... subhalo_vcirc_max subhalo_rvcirc_max\n",
      "-------------- ------------- ... ----------------- ------------------\n",
      "33242377525485             0 ...         1418.7654          1.1052033\n"
     ]
    }
   ],
   "source": [
    "print(halo_data[:10])\n",
    "print(Table(halo_data[:1]))"
   ]
  },
  {
   "cell_type": "code",
   "execution_count": 91,
   "metadata": {},
   "outputs": [
    {
     "name": "stdout",
     "output_type": "stream",
     "text": [
      "54.944195\n"
     ]
    }
   ],
   "source": [
    "print(np.min(halo_data['vcirc_max']))"
   ]
  },
  {
   "cell_type": "code",
   "execution_count": 92,
   "metadata": {},
   "outputs": [
    {
     "name": "stdout",
     "output_type": "stream",
     "text": [
      "912451\n"
     ]
    }
   ],
   "source": [
    "ii = halo_data['vcirc_max']>200 # in units of km/s\n",
    "print(np.count_nonzero(ii))"
   ]
  },
  {
   "cell_type": "code",
   "execution_count": 95,
   "metadata": {},
   "outputs": [
    {
     "name": "stdout",
     "output_type": "stream",
     "text": [
      "912451\n"
     ]
    }
   ],
   "source": [
    "S_pos = halo_data['pos'][ii]\n",
    "S_vel = halo_data['vel'][ii]\n",
    "S_vmax = halo_data['vcirc_max'][ii]\n",
    "S_parent_fof = halo_data['id'][ii]\n",
    "n_S = len(S_pos)\n",
    "print(n_S)"
   ]
  },
  {
   "cell_type": "code",
   "execution_count": 76,
   "metadata": {},
   "outputs": [],
   "source": [
    "#pad boxes around the S3 positions to mimic periodic boundary conditions\n",
    "S_pad_pos = S_pos.copy()\n",
    "S_pad_vel = S_vel.copy()\n",
    "S_pad_vmax = S_vmax.copy()\n",
    "S_pad_stellar_mass = S_stellar_mass.copy()\n",
    "S_pad_fof = S_parent_fof.copy()\n",
    "S_pad_id = np.arange(n_S)\n",
    "for i in [0]:\n",
    "    for j in [0]:\n",
    "        for k in [0]:\n",
    "            new_pos = S_pos.copy()\n",
    "            if(i):\n",
    "                new_pos[:,0] = new_pos[:,0] + i*BoxSize\n",
    "            if(j):\n",
    "                new_pos[:,1] = new_pos[:,1] + j*BoxSize\n",
    "            if(k):\n",
    "                new_pos[:,2] = new_pos[:,2] + k*BoxSize\n",
    "                \n",
    "            if((i!=0) | (j!=0) | (k!=0)):\n",
    "                S_pad_pos = np.append(S_pad_pos, new_pos, axis=0)\n",
    "                S_pad_vel = np.append(S_pad_vel, S_vel, axis=0)\n",
    "                S_pad_vmax = np.append(S_pad_vmax, S_vmax)\n",
    "                S_pad_stellar_mass = np.append(S_pad_stellar_mass, S_stellar_mass)\n",
    "                S_pad_id = np.append(S_pad_id, np.arange(n_S))\n",
    "                S_pad_fof = np.append(S_pad_fof, S_parent_fof)"
   ]
  },
  {
   "cell_type": "code",
   "execution_count": 77,
   "metadata": {},
   "outputs": [
    {
     "name": "stdout",
     "output_type": "stream",
     "text": [
      "(912451, 3)\n",
      "(912451, 20)\n"
     ]
    }
   ],
   "source": [
    "nbrs_S = NearestNeighbors(n_neighbors=20, algorithm='ball_tree').fit(S_pad_pos)\n",
    "dist_S, ind_S = nbrs_S.kneighbors(S_pad_pos)\n",
    "print(S_pad_pos.shape)\n",
    "print(dist_S.shape)"
   ]
  },
  {
   "cell_type": "code",
   "execution_count": 78,
   "metadata": {},
   "outputs": [
    {
     "name": "stdout",
     "output_type": "stream",
     "text": [
      "(912451, 18)\n",
      "37853\n"
     ]
    }
   ],
   "source": [
    "neighbor_index = ind_S[:,1]\n",
    "neighbor_list = ind_S[:,2:]\n",
    "print(np.shape(neighbor_list))\n",
    "\n",
    "n_pairs = 0\n",
    "\n",
    "halo_A_id = np.empty((0), dtype=int)\n",
    "halo_B_id = np.empty((0), dtype=int)\n",
    "\n",
    "for i in range(n_S):\n",
    "#for i in range(10):\n",
    "    l = neighbor_index[neighbor_index[i]]% n_S\n",
    "    j = neighbor_index[i] % n_S\n",
    "    \n",
    "    other_j = neighbor_list[i,:] % n_S\n",
    "    other_l = neighbor_list[neighbor_index[i],:] % n_S\n",
    "    \n",
    "    if((i==l) & (not (j in halo_A_id)) & (not (i in halo_B_id))): # first check to find mutual neighbors\n",
    "        if((dist_S[i,1] > 0.7)): #check on the distance between the two galaxies\n",
    "            #print('distancia')\n",
    "            vmax_i = S_pad_vmax[i]\n",
    "            vmax_j = S_pad_vmax[j]\n",
    "            vmax_limit = min([vmax_i, vmax_j])\n",
    "                \n",
    "            pair_d = dist_S[i,1] # This is the current pair distance\n",
    "            dist_limit = pair_d * 3.0 # exclusion radius for massive structures\n",
    "            \n",
    "            massive_close_to_i = any((dist_S[i,2:]<dist_limit) & (S_pad_vmax[other_j] >= vmax_limit))\n",
    "            massive_close_to_j = any((dist_S[j,2:]<dist_limit) & (S_pad_vmax[other_l] >= vmax_limit))\n",
    "            if((not massive_close_to_i) & (not massive_close_to_j)): # check on massive structures inside exclusion radius\n",
    "                n_pairs = n_pairs+ 1\n",
    "                halo_A_id = np.append(halo_A_id, int(i))\n",
    "                halo_B_id = np.append(halo_B_id, int(j))\n",
    "                    #print(pair_d)\n",
    "print(n_pairs)"
   ]
  },
  {
   "cell_type": "code",
   "execution_count": 108,
   "metadata": {},
   "outputs": [],
   "source": [
    "filename = '../data/summary_box_{:02d}.hdf5'.format(BoxID)\n",
    "h5f = h5py.File(filename, 'w')\n",
    "h5f.create_dataset('pos_A', data=S_pos[halo_A_id,:])\n",
    "h5f.create_dataset('pos_B', data=S_pos[halo_B_id,:])\n",
    "h5f.create_dataset('pos_G', data=S_pos[ll,:])\n",
    "h5f.create_dataset('vel_A', data=S_vel[halo_A_id,:])\n",
    "h5f.create_dataset('vel_B', data=S_vel[halo_B_id,:])\n",
    "h5f.create_dataset('vel_G', data=S_vel[ll,:])\n",
    "h5f.create_dataset('vmax_A', data=S_vmax[halo_A_id])\n",
    "h5f.create_dataset('vmax_B', data=S_vmax[halo_B_id])\n",
    "h5f.create_dataset('vmax_G', data=S_vmax[ll])\n",
    "h5f.close()"
   ]
  },
  {
   "cell_type": "code",
   "execution_count": null,
   "metadata": {},
   "outputs": [],
   "source": []
  }
 ],
 "metadata": {
  "kernelspec": {
   "display_name": "Python 3",
   "language": "python",
   "name": "python3"
  },
  "language_info": {
   "codemirror_mode": {
    "name": "ipython",
    "version": 3
   },
   "file_extension": ".py",
   "mimetype": "text/x-python",
   "name": "python",
   "nbconvert_exporter": "python",
   "pygments_lexer": "ipython3",
   "version": "3.6.8"
  }
 },
 "nbformat": 4,
 "nbformat_minor": 2
}
