{
 "cells": [
  {
   "cell_type": "code",
   "execution_count": 23,
   "metadata": {},
   "outputs": [],
   "source": [
    "import illustris_python.groupcat as gc\n",
    "from sklearn.neighbors import NearestNeighbors\n",
    "import matplotlib.pyplot as plt\n",
    "import numpy as np\n",
    "import abacus_cosmos.Halos as ach\n",
    "from astropy.table import Table\n",
    "\n",
    "%matplotlib inline"
   ]
  },
  {
   "cell_type": "code",
   "execution_count": 55,
   "metadata": {},
   "outputs": [],
   "source": [
    "basePath = \"/Users/forero/github/abacus/data/AbacusCosmos_720box_04_FoF_halos_z0.100/\"\n",
    "halo_data = ach.read_halos_FoF(basePath)\n",
    "halo_table = Table(halo_data)"
   ]
  },
  {
   "cell_type": "code",
   "execution_count": 56,
   "metadata": {},
   "outputs": [
    {
     "name": "stdout",
     "output_type": "stream",
     "text": [
      "-359.99994\n"
     ]
    }
   ],
   "source": [
    "print(halo_table['pos'].min())"
   ]
  },
  {
   "cell_type": "code",
   "execution_count": 57,
   "metadata": {},
   "outputs": [],
   "source": [
    "hubble = 0.67\n",
    "BoxSize = 720.0"
   ]
  },
  {
   "cell_type": "code",
   "execution_count": 58,
   "metadata": {},
   "outputs": [
    {
     "name": "stdout",
     "output_type": "stream",
     "text": [
      "6.1035156e-05\n"
     ]
    }
   ],
   "source": [
    "halo_table['pos'] = halo_table['pos']+BoxSize/2.0\n",
    "print(halo_table['pos'].min())"
   ]
  },
  {
   "cell_type": "code",
   "execution_count": 59,
   "metadata": {},
   "outputs": [
    {
     "data": {
      "text/html": [
       "<i>Table length=10</i>\n",
       "<table id=\"table112403727304\" class=\"table-striped table-bordered table-condensed\">\n",
       "<thead><tr><th>id</th><th>subsamp_start</th><th>subsamp_len</th><th>N</th><th>subhalo_N [4]</th><th>pos [3]</th><th>vel [3]</th><th>sigma_v [3]</th><th>r25</th><th>r50</th><th>r75</th><th>r90</th><th>vcirc_max</th><th>rvcirc_max</th><th>subhalo_pos [3]</th><th>subhalo_vel [3]</th><th>subhalo_sigma_v [3]</th><th>subhalo_r25</th><th>subhalo_r50</th><th>subhalo_r75</th><th>subhalo_r90</th><th>subhalo_vcirc_max</th><th>subhalo_rvcirc_max</th></tr></thead>\n",
       "<thead><tr><th>int64</th><th>uint64</th><th>uint32</th><th>uint32</th><th>uint32</th><th>float32</th><th>float32</th><th>float32</th><th>float32</th><th>float32</th><th>float32</th><th>float32</th><th>float32</th><th>float32</th><th>float32</th><th>float32</th><th>float32</th><th>float32</th><th>float32</th><th>float32</th><th>float32</th><th>float32</th><th>float32</th></tr></thead>\n",
       "<tr><td>33242377525485</td><td>0</td><td>6514</td><td>65785</td><td>43076 .. 272</td><td>68.90936 .. 254.36768</td><td>527.46204 .. -306.52667</td><td>913.1875 .. 641.1195</td><td>0.47896388</td><td>0.95461166</td><td>1.4652847</td><td>1.9062219</td><td>1232.1814</td><td>1.133729</td><td>-291.06955 .. -105.6578</td><td>531.79333 .. -320.0819</td><td>913.2037 .. 641.2682</td><td>0.48745063</td><td>0.95618564</td><td>1.4646742</td><td>1.9327941</td><td>1229.9573</td><td>0.79291576</td></tr>\n",
       "<tr><td>33242377525486</td><td>6514</td><td>5462</td><td>54295</td><td>39443 .. 136</td><td>152.90689 .. 353.71448</td><td>-203.81299 .. 237.39218</td><td>947.0979 .. 719.2114</td><td>0.36945322</td><td>0.6556443</td><td>1.0200204</td><td>1.4969106</td><td>1347.0299</td><td>0.66329706</td><td>-207.13239 .. -6.319993</td><td>-198.0364 .. 264.49124</td><td>947.3582 .. 719.2907</td><td>0.3634097</td><td>0.65406406</td><td>1.0204002</td><td>1.4948139</td><td>1349.2322</td><td>0.62759477</td></tr>\n",
       "<tr><td>33242377525487</td><td>11976</td><td>4934</td><td>48930</td><td>33131 .. 310</td><td>25.339355 .. 71.402954</td><td>-37.641155 .. 217.23412</td><td>896.5138 .. 647.6147</td><td>0.48626307</td><td>0.74851435</td><td>1.1311457</td><td>1.5374379</td><td>1215.3206</td><td>0.9066862</td><td>-334.61246 .. -288.65997</td><td>-97.796524 .. 206.15282</td><td>899.4202 .. 648.18024</td><td>0.4744195</td><td>0.7499747</td><td>1.1342478</td><td>1.5676634</td><td>1215.1339</td><td>0.89925796</td></tr>\n",
       "<tr><td>33242377525488</td><td>16910</td><td>3953</td><td>39453</td><td>24467 .. 241</td><td>117.45816 .. 263.1902</td><td>-80.68883 .. -354.3293</td><td>727.8095 .. 500.5693</td><td>0.61909246</td><td>0.92649895</td><td>1.3504988</td><td>1.7689579</td><td>987.9422</td><td>1.1386218</td><td>-242.57126 .. -96.76999</td><td>-114.792206 .. -306.4037</td><td>731.40515 .. 501.61682</td><td>0.53929186</td><td>0.92297125</td><td>1.3495759</td><td>1.8150662</td><td>989.54236</td><td>1.211195</td></tr>\n",
       "<tr><td>33242377525489</td><td>20863</td><td>3660</td><td>36239</td><td>24363 .. 117</td><td>0.17297363 .. 80.42062</td><td>286.564 .. -178.37665</td><td>757.8137 .. 581.61646</td><td>0.3430936</td><td>0.6619118</td><td>1.0475227</td><td>1.3595113</td><td>1095.1309</td><td>0.6957455</td><td>-359.82068 .. -279.61578</td><td>296.14957 .. -192.95085</td><td>757.97723 .. 581.9728</td><td>0.33681205</td><td>0.6709805</td><td>1.0389625</td><td>1.3587822</td><td>1095.3732</td><td>0.45118648</td></tr>\n",
       "<tr><td>33242377525490</td><td>24523</td><td>3171</td><td>31997</td><td>24187 .. 102</td><td>152.81091 .. 487.31912</td><td>267.2844 .. -460.34653</td><td>810.4758 .. 518.2186</td><td>0.41604078</td><td>0.78409654</td><td>1.1286488</td><td>1.4011918</td><td>965.0367</td><td>1.1532272</td><td>-207.19937 .. 127.31631</td><td>273.6985 .. -468.54953</td><td>811.1688 .. 518.3678</td><td>0.4179683</td><td>0.7863768</td><td>1.1281159</td><td>1.4001321</td><td>965.9276</td><td>1.148427</td></tr>\n",
       "<tr><td>33242377525491</td><td>27694</td><td>2968</td><td>29822</td><td>22386 .. 90</td><td>27.395569 .. 165.91907</td><td>92.99687 .. -215.39044</td><td>923.4031 .. 499.8083</td><td>0.31365192</td><td>0.54878795</td><td>0.87086356</td><td>1.1481982</td><td>1092.0194</td><td>0.5896845</td><td>-332.62054 .. -194.05328</td><td>89.58194 .. -211.28677</td><td>923.4254 .. 499.88705</td><td>0.30305943</td><td>0.54301673</td><td>0.86891997</td><td>1.1624866</td><td>1098.32</td><td>0.49110937</td></tr>\n",
       "<tr><td>33242377525492</td><td>30662</td><td>2873</td><td>28794</td><td>20800 .. 190</td><td>50.763397 .. 610.12134</td><td>-448.97797 .. 134.78462</td><td>790.5677 .. 558.58936</td><td>0.29329008</td><td>0.5304205</td><td>0.86879677</td><td>1.1874532</td><td>1091.7693</td><td>0.5160773</td><td>-309.25833 .. 250.07993</td><td>-462.22513 .. 143.15332</td><td>790.5681 .. 558.81</td><td>0.28870782</td><td>0.53103656</td><td>0.86709386</td><td>1.1915562</td><td>1093.1848</td><td>0.47086686</td></tr>\n",
       "<tr><td>33242377525493</td><td>33535</td><td>2465</td><td>24615</td><td>16832 .. 59</td><td>154.29433 .. 377.3882</td><td>-63.092236 .. 33.133675</td><td>658.73 .. 530.7746</td><td>0.31509176</td><td>0.57393515</td><td>0.9139683</td><td>1.2502626</td><td>975.7722</td><td>0.69975984</td><td>-205.71552 .. 17.431177</td><td>-57.846317 .. 15.195254</td><td>658.7556 .. 531.0555</td><td>0.29599875</td><td>0.55468965</td><td>0.9181996</td><td>1.2903208</td><td>990.305</td><td>0.6197941</td></tr>\n",
       "<tr><td>33242377525494</td><td>36000</td><td>2214</td><td>21944</td><td>17177 .. 37</td><td>148.47656 .. 606.2772</td><td>274.66885 .. 262.55215</td><td>704.565 .. 548.0844</td><td>0.24374384</td><td>0.4434797</td><td>0.6840814</td><td>0.9017643</td><td>1042.985</td><td>0.46900374</td><td>-211.51056 .. 246.28772</td><td>275.21924 .. 255.98723</td><td>704.57214 .. 548.11615</td><td>0.24508157</td><td>0.44332623</td><td>0.6824103</td><td>0.90202653</td><td>1042.9222</td><td>0.47521663</td></tr>\n",
       "</table>"
      ],
      "text/plain": [
       "<Table length=10>\n",
       "      id       subsamp_start ... subhalo_vcirc_max subhalo_rvcirc_max\n",
       "    int64          uint64    ...      float32           float32      \n",
       "-------------- ------------- ... ----------------- ------------------\n",
       "33242377525485             0 ...         1229.9573         0.79291576\n",
       "33242377525486          6514 ...         1349.2322         0.62759477\n",
       "33242377525487         11976 ...         1215.1339         0.89925796\n",
       "33242377525488         16910 ...         989.54236           1.211195\n",
       "33242377525489         20863 ...         1095.3732         0.45118648\n",
       "33242377525490         24523 ...          965.9276           1.148427\n",
       "33242377525491         27694 ...           1098.32         0.49110937\n",
       "33242377525492         30662 ...         1093.1848         0.47086686\n",
       "33242377525493         33535 ...           990.305          0.6197941\n",
       "33242377525494         36000 ...         1042.9222         0.47521663"
      ]
     },
     "execution_count": 59,
     "metadata": {},
     "output_type": "execute_result"
    }
   ],
   "source": [
    "halo_table[:10]"
   ]
  },
  {
   "cell_type": "code",
   "execution_count": 60,
   "metadata": {},
   "outputs": [
    {
     "name": "stdout",
     "output_type": "stream",
     "text": [
      "48.942024\n"
     ]
    }
   ],
   "source": [
    "print(np.min(halo_table['vcirc_max']))"
   ]
  },
  {
   "cell_type": "code",
   "execution_count": 61,
   "metadata": {},
   "outputs": [
    {
     "name": "stdout",
     "output_type": "stream",
     "text": [
      "682062\n"
     ]
    }
   ],
   "source": [
    "ii = halo_table['vcirc_max']>200 # in units of km/s\n",
    "print(np.count_nonzero(ii))"
   ]
  },
  {
   "cell_type": "code",
   "execution_count": 62,
   "metadata": {},
   "outputs": [
    {
     "name": "stdout",
     "output_type": "stream",
     "text": [
      "682062\n"
     ]
    }
   ],
   "source": [
    "S_pos = halo_table['pos'][ii]\n",
    "S_vel = halo_table['vel'][ii]\n",
    "S_vmax = halo_table['vcirc_max'][ii]\n",
    "S_stellar_mass = np.zeros(np.count_nonzero(ii))\n",
    "S_parent_fof = np.zeros(np.count_nonzero(ii))\n",
    "n_S = len(S_pos)\n",
    "print(n_S)"
   ]
  },
  {
   "cell_type": "code",
   "execution_count": 63,
   "metadata": {},
   "outputs": [],
   "source": [
    "#pad boxes around the S3 positions to mimic periodic boundary conditions\n",
    "S_pad_pos = S_pos.copy()\n",
    "S_pad_vel = S_vel.copy()\n",
    "S_pad_vmax = S_vmax.copy()\n",
    "S_pad_stellar_mass = S_stellar_mass.copy()\n",
    "S_pad_fof = S_parent_fof.copy()\n",
    "S_pad_id = np.arange(n_S)\n",
    "for i in [0]:\n",
    "    for j in [0]:\n",
    "        for k in [0]:\n",
    "            new_pos = S_pos.copy()\n",
    "            if(i):\n",
    "                new_pos[:,0] = new_pos[:,0] + i*BoxSize\n",
    "            if(j):\n",
    "                new_pos[:,1] = new_pos[:,1] + j*BoxSize\n",
    "            if(k):\n",
    "                new_pos[:,2] = new_pos[:,2] + k*BoxSize\n",
    "                \n",
    "            if((i!=0) | (j!=0) | (k!=0)):\n",
    "                S_pad_pos = np.append(S_pad_pos, new_pos, axis=0)\n",
    "                S_pad_vel = np.append(S_pad_vel, S_vel, axis=0)\n",
    "                S_pad_vmax = np.append(S_pad_vmax, S_vmax)\n",
    "                S_pad_stellar_mass = np.append(S_pad_stellar_mass, S_stellar_mass)\n",
    "                S_pad_id = np.append(S_pad_id, np.arange(n_S))\n",
    "                S_pad_fof = np.append(S_pad_fof, S_parent_fof)"
   ]
  },
  {
   "cell_type": "code",
   "execution_count": 64,
   "metadata": {},
   "outputs": [
    {
     "name": "stdout",
     "output_type": "stream",
     "text": [
      "(682062, 3)\n",
      "(682062, 20)\n"
     ]
    }
   ],
   "source": [
    "nbrs_S = NearestNeighbors(n_neighbors=20, algorithm='ball_tree').fit(S_pad_pos)\n",
    "dist_S, ind_S = nbrs_S.kneighbors(S_pad_pos)\n",
    "print(S_pad_pos.shape)\n",
    "print(dist_S.shape)"
   ]
  },
  {
   "cell_type": "code",
   "execution_count": 65,
   "metadata": {},
   "outputs": [
    {
     "name": "stdout",
     "output_type": "stream",
     "text": [
      "(682062, 18)\n",
      "29161\n"
     ]
    }
   ],
   "source": [
    "neighbor_index = ind_S[:,1]\n",
    "neighbor_list = ind_S[:,2:]\n",
    "print(np.shape(neighbor_list))\n",
    "\n",
    "n_pairs = 0\n",
    "\n",
    "halo_A_id = np.empty((0), dtype=int)\n",
    "halo_B_id = np.empty((0), dtype=int)\n",
    "\n",
    "for i in range(n_S):\n",
    "#for i in range(10):\n",
    "    l = neighbor_index[neighbor_index[i]]% n_S\n",
    "    j = neighbor_index[i] % n_S\n",
    "    \n",
    "    other_j = neighbor_list[i,:] % n_S\n",
    "    other_l = neighbor_list[neighbor_index[i],:] % n_S\n",
    "    \n",
    "    if((i==l) & (not (j in halo_A_id)) & (not (i in halo_B_id))): # first check to find mutual neighbors\n",
    "        if((dist_S[i,1] > 0.7)): #check on the distance between the two galaxies\n",
    "            #print('distancia')\n",
    "            vmax_i = S_pad_vmax[i]\n",
    "            vmax_j = S_pad_vmax[j]\n",
    "            vmax_limit = min([vmax_i, vmax_j])\n",
    "                \n",
    "            pair_d = dist_S[i,1] # This is the current pair distance\n",
    "            dist_limit = pair_d * 3.0 # exclusion radius for massive structures\n",
    "            \n",
    "            massive_close_to_i = any((dist_S[i,2:]<dist_limit) & (S_pad_vmax[other_j] >= vmax_limit))\n",
    "            massive_close_to_j = any((dist_S[j,2:]<dist_limit) & (S_pad_vmax[other_l] >= vmax_limit))\n",
    "            if((not massive_close_to_i) & (not massive_close_to_j)): # check on massive structures inside exclusion radius\n",
    "                n_pairs = n_pairs+ 1\n",
    "                halo_A_id = np.append(halo_A_id, int(i))\n",
    "                halo_B_id = np.append(halo_B_id, int(j))\n",
    "                    #print(pair_d)\n",
    "print(n_pairs)"
   ]
  },
  {
   "cell_type": "code",
   "execution_count": 66,
   "metadata": {},
   "outputs": [],
   "source": [
    "halo_A = np.array([S_pad_fof[halo_A_id], np.zeros(len(S_pad_fof[halo_A_id])), \n",
    "                   S_pad_stellar_mass[halo_A_id], S_vmax[halo_A_id],\n",
    "                   S_pos[halo_A_id,0], S_pos[halo_A_id,1], S_pos[halo_A_id,2],\n",
    "                   S_vel[halo_A_id,0], S_vel[halo_A_id,1], S_vel[halo_A_id,2]], )\n",
    "np.savetxt('../data/vmax_selected/summary_halo_A_box_04.txt', halo_A.T, \n",
    "        fmt=\"%d %f %f %f %f %f %f %f %f %f\", \n",
    "           header = \"FOF_ID M_FOF[10^10 Msun/h] Mstar[10^10 Msun/h] Vmax [km/s] Pos_xyz [kpc/h] Vel_xyz [km/s]\")\n",
    "\n",
    "halo_B = np.array([S_pad_fof[halo_B_id], np.zeros(len(S_pad_fof[halo_B_id])), \n",
    "                   S_pad_stellar_mass[halo_B_id], S_vmax[halo_B_id],\n",
    "                   S_pos[halo_B_id,0], S_pos[halo_B_id,1], S_pos[halo_B_id,2],\n",
    "                   S_vel[halo_B_id,0], S_vel[halo_B_id,1], S_vel[halo_B_id,2]])\n",
    "np.savetxt('../data/vmax_selected/summary_halo_B_box_04.txt', halo_B.T, \n",
    "        fmt=\"%d %f %f %f %f %f %f %f %f %f\", \n",
    "           header = \"FOF_ID M_FOF[10^10 Msun/h] Mstar[10^10 Msun/h] Vmax [km/s] Pos_xyz [kpc/h] Vel_xyz [km/s]\")\n",
    "\n",
    "halo_C = np.array([S_pad_fof, np.zeros(len(S_pad_fof)), \n",
    "                   S_pad_stellar_mass, S_vmax,\n",
    "                   S_pos[:,0], S_pos[:,1], S_pos[:,2],\n",
    "                   S_vel[:,0], S_vel[:,1], S_vel[:,2]])\n",
    "np.savetxt('../data/vmax_selected/summary_halo_general_box_04.txt', halo_C.T, \n",
    "        fmt=\"%d %f %f %f %f %f %f %f %f %f\", \n",
    "           header = \"FOF_ID M_FOF[10^10 Msun/h] Mstar[10^10 Msun/h] Vmax [km/s] Pos_xyz [kpc/h] Vel_xyz [km/s]\")"
   ]
  },
  {
   "cell_type": "code",
   "execution_count": null,
   "metadata": {},
   "outputs": [],
   "source": []
  },
  {
   "cell_type": "code",
   "execution_count": null,
   "metadata": {},
   "outputs": [],
   "source": []
  }
 ],
 "metadata": {
  "kernelspec": {
   "display_name": "Python 3",
   "language": "python",
   "name": "python3"
  },
  "language_info": {
   "codemirror_mode": {
    "name": "ipython",
    "version": 3
   },
   "file_extension": ".py",
   "mimetype": "text/x-python",
   "name": "python",
   "nbconvert_exporter": "python",
   "pygments_lexer": "ipython3",
   "version": "3.6.8"
  }
 },
 "nbformat": 4,
 "nbformat_minor": 2
}
