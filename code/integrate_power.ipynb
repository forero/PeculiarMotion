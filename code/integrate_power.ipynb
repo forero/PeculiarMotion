{
 "cells": [
  {
   "cell_type": "code",
   "execution_count": 1,
   "metadata": {},
   "outputs": [
    {
     "name": "stdout",
     "output_type": "stream",
     "text": [
      "original sigma8 = 0.8380\n"
     ]
    }
   ],
   "source": [
    "from nbodykit.lab import cosmology\n",
    "\n",
    "cosmo = cosmology.Cosmology()\n",
    "print(\"original sigma8 = %.4f\" % cosmo.sigma8)"
   ]
  },
  {
   "cell_type": "code",
   "execution_count": 118,
   "metadata": {},
   "outputs": [
    {
     "data": {
      "image/png": "[encoded data removed]",
      "text/plain": [
       "<Figure size 432x288 with 1 Axes>"
      ]
     },
     "metadata": {
      "needs_background": "light"
     },
     "output_type": "display_data"
    }
   ],
   "source": [
    "import matplotlib.pyplot as plt\n",
    "import numpy as np\n",
    "\n",
    "c = cosmology.Planck15\n",
    "Plin = cosmology.LinearPower(c, redshift=0., transfer='CLASS')\n",
    "\n",
    "Plin = cosmology.HalofitPower(c, redshift=0)\n",
    "\n",
    "k = np.logspace(-6, 0, 1000)\n",
    "plt.loglog(k, Plin(k), c='k')\n",
    "\n",
    "plt.xlabel(r\"$k$ $[h \\mathrm{Mpc}^{-1}]$\")\n",
    "plt.ylabel(r\"$P$ $[h^{-3} \\mathrm{Mpc}^{3}]$\")\n",
    "plt.show()"
   ]
  },
  {
   "cell_type": "code",
   "execution_count": 119,
   "metadata": {},
   "outputs": [],
   "source": [
    "def window(x):\n",
    "    y = (3/x**3)*(np.sin(x)-x*np.cos(x))\n",
    "    return y"
   ]
  },
  {
   "cell_type": "code",
   "execution_count": 120,
   "metadata": {},
   "outputs": [
    {
     "name": "stdout",
     "output_type": "stream",
     "text": [
      "0.9129501375053649\n",
      "0.9116016528271484\n",
      "0.908283527906778\n",
      "0.9037345782632576\n",
      "0.8985458784302477\n",
      "0.8922997529754969\n",
      "0.8861756561685287\n",
      "0.8800271057000792\n",
      "0.8743393283780625\n",
      "0.8680609443971038\n",
      "0.861945092044178\n",
      "0.8569683311807865\n",
      "0.8506293440640257\n",
      "0.8446160158706296\n",
      "0.8391015184865144\n",
      "0.8330603585305362\n",
      "0.8264563165260216\n",
      "0.8207745456413553\n",
      "0.8147749054861945\n",
      "0.8085155132592767\n",
      "0.8020648945227554\n",
      "0.7971368854593026\n",
      "0.7904669062922002\n",
      "0.7853774282936725\n",
      "0.7801779574489104\n",
      "0.7748162520515346\n",
      "0.7692281051052571\n",
      "0.7653444218524402\n",
      "0.7592411856338386\n",
      "0.7527790406046031\n",
      "0.4811594057538262\n"
     ]
    }
   ],
   "source": [
    "h = 67.74\n",
    "omega = 0.307\n",
    "n_boxes = 30\n",
    "L_box_sizes = 1/np.linspace(1E-5,2E-2,n_boxes)\n",
    "sigma_vel = np.zeros(n_boxes)\n",
    "for i in range(n_boxes):\n",
    "    L_box = L_box_sizes[i]\n",
    "    k_box = 2.0*np.pi/L_box\n",
    "    plink = Plin(k)\n",
    "    ii = k<k_box\n",
    "    new_plink = plink.copy()\n",
    "    new_plink[ii] = 0\n",
    "    W2 = window(k)**2\n",
    "    sigma_minus_1 = np.sqrt(np.trapz(new_plink*W2, k)/(2.0*np.pi**2))\n",
    "    sigma_0 = np.sqrt(np.trapz(new_plink*W2*k*k, k)/(2.0*np.pi**2))\n",
    "    sigma_1 = np.sqrt(np.trapz(new_plink*W2*k*k*k*k, k)/(2.0*np.pi**2))\n",
    "    sigma_vel[i] = h * omega**0.6 * (sigma_minus_1) * np.sqrt(1.0 - sigma_0**4/(sigma_1**2 * sigma_minus_1**2))\n",
    "    print(np.sqrt(1 - sigma_0**4/(sigma_1**2 * sigma_minus_1**2)))\n",
    "print(79.39/sigma_vel[-1])"
   ]
  },
  {
   "cell_type": "code",
   "execution_count": 121,
   "metadata": {},
   "outputs": [
    {
     "data": {
      "text/plain": [
       "<matplotlib.collections.PathCollection at 0x7f90ae02cb10>"
      ]
     },
     "execution_count": 121,
     "metadata": {},
     "output_type": "execute_result"
    },
    {
     "data": {
      "image/png": "[encoded data removed]",
      "text/plain": [
       "<Figure size 432x288 with 1 Axes>"
      ]
     },
     "metadata": {
      "needs_background": "light"
     },
     "output_type": "display_data"
    }
   ],
   "source": [
    "sigma_vel = np.sqrt(sigma_vel**2 + 100**2)\n",
    "sigma_vel = sigma_vel * 79.39/sigma_vel[-1]\n",
    "\n",
    "\n",
    "\n",
    "v = np.array([79.39,77.33,84.09,161.47, 164.65, 169.06, 225.01, 228.01, 231.17,\n",
    "     236.16, 230.26, 287.90, 280.57, 283.48, 288.06, 296.87 , 293.44,\n",
    "     274.61, 279.81 , 280.67, 279.11, 281.28, 285.81, 285.14 , 286.30, \n",
    "     289.23, 278.45, 277.81, 274.83, 277.62, 277.66])\n",
    "len(v)\n",
    "L = np.array([51.7, 51.7, 51.7, 110.7, 110.7, 110.7, 302.6, 302.6, 302.6, \n",
    "             357.14, 357.14, 1074.62, 1074.62, 1074.62, 1074.62, 1074.62, \n",
    "            1074.62, 1074.62, 1074.62, 1074.62, 1074.62, 1074.62, 1074.62,\n",
    "            1074.62, 1074.62, 1074.62, 1074.62, 1074.62, 1074.62, 1074.62, 1074.62])\n",
    "x = 1/L\n",
    "y = v\n",
    "\n",
    "\n",
    "plt.scatter(1/L_box_sizes, sigma_vel)\n",
    "plt.scatter(1/L, y)"
   ]
  },
  {
   "cell_type": "code",
   "execution_count": 84,
   "metadata": {},
   "outputs": [
    {
     "data": {
      "text/plain": [
       "307.6632970726389"
      ]
     },
     "execution_count": 84,
     "metadata": {},
     "output_type": "execute_result"
    }
   ],
   "source": [
    "integral[0]"
   ]
  },
  {
   "cell_type": "code",
   "execution_count": 61,
   "metadata": {},
   "outputs": [
    {
     "data": {
      "text/plain": [
       "1.0"
      ]
     },
     "execution_count": 61,
     "metadata": {},
     "output_type": "execute_result"
    }
   ],
   "source": [
    "79.39/integral[-1]"
   ]
  },
  {
   "cell_type": "code",
   "execution_count": null,
   "metadata": {},
   "outputs": [],
   "source": []
  }
 ],
 "metadata": {
  "kernelspec": {
   "display_name": "Python 3",
   "language": "python",
   "name": "python3"
  },
  "language_info": {
   "codemirror_mode": {
    "name": "ipython",
    "version": 3
   },
   "file_extension": ".py",
   "mimetype": "text/x-python",
   "name": "python",
   "nbconvert_exporter": "python",
   "pygments_lexer": "ipython3",
   "version": "3.7.8"
  }
 },
 "nbformat": 4,
 "nbformat_minor": 4
}
