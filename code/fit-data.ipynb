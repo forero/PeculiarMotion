{
 "cells": [
  {
   "cell_type": "code",
   "execution_count": 13,
   "id": "9a561dfb",
   "metadata": {},
   "outputs": [],
   "source": [
    "import numpy as np\n",
    "from scipy.optimize import curve_fit\n",
    "import matplotlib.pyplot as plt"
   ]
  },
  {
   "cell_type": "code",
   "execution_count": 29,
   "id": "d9ea8456",
   "metadata": {},
   "outputs": [],
   "source": [
    "def cumul_distro(x,a):\n",
    "    y = scipy.special.erf(x/(a*np.sqrt(2)))\n",
    "    y = y - np.sqrt(2.0/np.pi) * x * np.exp(-0.5*(x/a)**2)/a\n",
    "    return y"
   ]
  },
  {
   "cell_type": "code",
   "execution_count": 40,
   "id": "500de8d9",
   "metadata": {},
   "outputs": [],
   "source": [
    "data = np.loadtxt(\"../data/summary/cmspeed_bolshoi_BDM.dat\")"
   ]
  },
  {
   "cell_type": "code",
   "execution_count": 41,
   "id": "a9d28d6d",
   "metadata": {},
   "outputs": [],
   "source": [
    "x_data = np.sort(data)\n",
    "n = len(x_data)\n",
    "y_data = np.linspace(1/n, 1.0, n)"
   ]
  },
  {
   "cell_type": "code",
   "execution_count": 42,
   "id": "da9f76fe",
   "metadata": {},
   "outputs": [],
   "source": [
    "popt, pcov = curve_fit(cumul_distro, x_data, y_data, bounds=[0,5000])"
   ]
  },
  {
   "cell_type": "code",
   "execution_count": 43,
   "id": "a59cbdb7",
   "metadata": {},
   "outputs": [
    {
     "data": {
      "text/plain": [
       "(array([235.35681891]), array([[0.06056912]]))"
      ]
     },
     "execution_count": 43,
     "metadata": {},
     "output_type": "execute_result"
    }
   ],
   "source": [
    "popt, np.sqrt(pcov)"
   ]
  },
  {
   "cell_type": "code",
   "execution_count": 44,
   "id": "59f8c787",
   "metadata": {},
   "outputs": [],
   "source": [
    "y_fit = cumul_distro(x_data, popt[0])"
   ]
  },
  {
   "cell_type": "code",
   "execution_count": 46,
   "id": "7ee63638",
   "metadata": {},
   "outputs": [
    {
     "data": {
      "text/plain": [
       "[<matplotlib.lines.Line2D at 0x1339c4130>]"
      ]
     },
     "execution_count": 46,
     "metadata": {},
     "output_type": "execute_result"
    },
    {
     "data": {
      "image/png": "[encoded data removed]",
      "text/plain": [
       "<Figure size 432x288 with 1 Axes>"
      ]
     },
     "metadata": {
      "needs_background": "light"
     },
     "output_type": "display_data"
    }
   ],
   "source": [
    "plt.plot(x_data, y_fit)\n",
    "plt.plot(x_data, y_data)"
   ]
  },
  {
   "cell_type": "code",
   "execution_count": null,
   "id": "b590a887",
   "metadata": {},
   "outputs": [],
   "source": []
  }
 ],
 "metadata": {
  "kernelspec": {
   "display_name": "Python 3",
   "language": "python",
   "name": "python3"
  },
  "language_info": {
   "codemirror_mode": {
    "name": "ipython",
    "version": 3
   },
   "file_extension": ".py",
   "mimetype": "text/x-python",
   "name": "python",
   "nbconvert_exporter": "python",
   "pygments_lexer": "ipython3",
   "version": "3.8.10"
  }
 },
 "nbformat": 4,
 "nbformat_minor": 5
}
