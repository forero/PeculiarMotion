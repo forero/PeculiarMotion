{
 "cells": [
  {
   "cell_type": "code",
   "execution_count": 6,
   "id": "cb3b7666",
   "metadata": {},
   "outputs": [],
   "source": [
    "import numpy as np\n",
    "from scipy.optimize import curve_fit\n",
    "import matplotlib.pyplot as plt\n",
    "import scipy"
   ]
  },
  {
   "cell_type": "code",
   "execution_count": 7,
   "id": "2055dc5d",
   "metadata": {},
   "outputs": [],
   "source": [
    "def cumul_distro(x,a):\n",
    "    y = scipy.special.erf(x/(a*np.sqrt(2)))\n",
    "    y = y - np.sqrt(2.0/np.pi) * x * np.exp(-0.5*(x/a)**2)/a\n",
    "    return y"
   ]
  },
  {
   "cell_type": "code",
   "execution_count": 28,
   "id": "f459c1e7",
   "metadata": {},
   "outputs": [],
   "source": [
    "data = np.loadtxt(\"../../PeculiarMotionTNG/data/summary_vcm_TNG50-3.dat\")"
   ]
  },
  {
   "cell_type": "code",
   "execution_count": 29,
   "id": "4e2e2270",
   "metadata": {},
   "outputs": [],
   "source": [
    "x_data = np.sort(data)\n",
    "n = len(x_data)\n",
    "y_data = np.linspace(1/n, 1.0, n)"
   ]
  },
  {
   "cell_type": "code",
   "execution_count": 30,
   "id": "5ef8e57c",
   "metadata": {},
   "outputs": [],
   "source": [
    "popt, pcov = curve_fit(cumul_distro, x_data, y_data, bounds=[0,500])"
   ]
  },
  {
   "cell_type": "code",
   "execution_count": 31,
   "id": "470604f8",
   "metadata": {},
   "outputs": [
    {
     "data": {
      "text/plain": [
       "(array([79.13144118]), array([[1.23464947]]))"
      ]
     },
     "execution_count": 31,
     "metadata": {},
     "output_type": "execute_result"
    }
   ],
   "source": [
    "popt, np.sqrt(pcov)"
   ]
  },
  {
   "cell_type": "code",
   "execution_count": 32,
   "id": "6943e78a",
   "metadata": {},
   "outputs": [],
   "source": [
    "y_fit = cumul_distro(x_data, popt[0])"
   ]
  },
  {
   "cell_type": "code",
   "execution_count": 33,
   "id": "0d754459",
   "metadata": {},
   "outputs": [
    {
     "data": {
      "text/plain": [
       "[<matplotlib.lines.Line2D at 0x12fe94100>]"
      ]
     },
     "execution_count": 33,
     "metadata": {},
     "output_type": "execute_result"
    },
    {
     "data": {
      "image/png": "[encoded data removed]",
      "text/plain": [
       "<Figure size 432x288 with 1 Axes>"
      ]
     },
     "metadata": {
      "needs_background": "light"
     },
     "output_type": "display_data"
    }
   ],
   "source": [
    "plt.plot(x_data, y_fit)\n",
    "plt.plot(x_data, y_data)"
   ]
  },
  {
   "cell_type": "code",
   "execution_count": 17,
   "id": "7ce6491c",
   "metadata": {},
   "outputs": [
    {
     "name": "stdout",
     "output_type": "stream",
     "text": [
      "221.42289149455613\n"
     ]
    }
   ],
   "source": [
    "chi_nu = np.sum((y_fit-y_data)**2/(1/n)**2)/(n-1)\n",
    "print(chi_nu)"
   ]
  },
  {
   "cell_type": "code",
   "execution_count": null,
   "id": "caeed01b",
   "metadata": {},
   "outputs": [],
   "source": []
  }
 ],
 "metadata": {
  "kernelspec": {
   "display_name": "Python 3",
   "language": "python",
   "name": "python3"
  },
  "language_info": {
   "codemirror_mode": {
    "name": "ipython",
    "version": 3
   },
   "file_extension": ".py",
   "mimetype": "text/x-python",
   "name": "python",
   "nbconvert_exporter": "python",
   "pygments_lexer": "ipython3",
   "version": "3.8.10"
  }
 },
 "nbformat": 4,
 "nbformat_minor": 5
}
